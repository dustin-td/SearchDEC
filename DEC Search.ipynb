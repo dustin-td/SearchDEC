{
 "cells": [
  {
   "cell_type": "code",
   "execution_count": 1,
   "metadata": {
    "collapsed": false,
    "deletable": true,
    "editable": true
   },
   "outputs": [],
   "source": [
    "import sys, os, re, time, math, shutil\n",
    "import urllib\n",
    "import base64\n",
    "import requests\n",
    "import unicodecsv as csv\n",
    "import json\n",
    "import pandas as pd\n",
    "import xlwt\n",
    "from multiprocessing import Process\n",
    "from unicodedata import normalize"
   ]
  },
  {
   "cell_type": "code",
   "execution_count": 14,
   "metadata": {
    "collapsed": false,
    "deletable": true,
    "editable": true
   },
   "outputs": [],
   "source": [
    "def searchDEC(query):\n",
    "    '''\n",
    "    Function to pass queries to DEC's qsearch API.\n",
    "    Queries are based on Presto syntax, as documented\n",
    "    here: https://dec.usaid.gov/dec/WebHelp/PrestoWebHelp.htm\n",
    "    Returns metadata related to search and list of dicts\n",
    "    corresponding to DEC records found by query.\n",
    "    '''\n",
    "    base_url = 'https://dec.usaid.gov/api/qsearch.ashx'\n",
    "    b64query = base64.b64encode(query)\n",
    "    urlquery = urllib.quote_plus(b64query) \n",
    "    search = base_url + '?q=' + urlquery + '&rtype=JSON'\n",
    "\n",
    "    r = requests.get(search,timeout=300)\n",
    "    if r.status_code != 200:\n",
    "        raise ValueError('Bad request')\n",
    "\n",
    "    data = r.json()\n",
    "    if u'Error' in data:\n",
    "        raise ValueError(str(data[u'Error'][u'Message']))\n",
    "    \n",
    "    print 'RECORDS FOUND: ',data.get(u'RecordsFound')\n",
    "    \n",
    "    meta = [data[u'searchTerm'],data[u'searchDate'],data[u'RecordsFound']]\n",
    "    \n",
    "    if data[u'RecordsFound'] > 0:\n",
    "        records = data[u'Records']\n",
    "        keys = records[0].keys()\n",
    "    else:\n",
    "        raise ValueError('NO RECORDS FOUND')\n",
    "\n",
    "    for record in records:\n",
    "        for key in record.keys():\n",
    "            record[key] = '/'.join(record[key][u'value'])\n",
    "\n",
    "    return [meta,keys,records]"
   ]
  },
  {
   "cell_type": "code",
   "execution_count": 15,
   "metadata": {
    "collapsed": true,
    "deletable": true,
    "editable": true
   },
   "outputs": [],
   "source": [
    "query1 = 'documents.datecreated:([20100101000000 TO 20140901000000]) AND violence'"
   ]
  },
  {
   "cell_type": "code",
   "execution_count": 19,
   "metadata": {
    "collapsed": true,
    "deletable": true,
    "editable": true
   },
   "outputs": [],
   "source": [
    "query2 = 'documents.datecreated:([20140902000000 TO 20170415000000]) AND violence' "
   ]
  },
  {
   "cell_type": "code",
   "execution_count": 17,
   "metadata": {
    "collapsed": false,
    "deletable": true,
    "editable": true
   },
   "outputs": [
    {
     "name": "stdout",
     "output_type": "stream",
     "text": [
      "RECORDS FOUND:  1906\n"
     ]
    }
   ],
   "source": [
    "# Searches are divided into two because DEC qsearch API limits responses to 2000\n",
    "s1 = searchDEC(query1)"
   ]
  },
  {
   "cell_type": "code",
   "execution_count": 20,
   "metadata": {
    "collapsed": false,
    "deletable": true,
    "editable": true
   },
   "outputs": [
    {
     "name": "stdout",
     "output_type": "stream",
     "text": [
      "RECORDS FOUND:  1953\n"
     ]
    }
   ],
   "source": [
    "s2 = searchDEC(query2)"
   ]
  },
  {
   "cell_type": "code",
   "execution_count": 8,
   "metadata": {
    "collapsed": false,
    "deletable": true,
    "editable": true
   },
   "outputs": [
    {
     "data": {
      "text/plain": [
       "[u'documents.datecreated:([20100101000000 TO 20140901000000]) AND violence',\n",
       " u'2017-05-04T14:37:08.8950638-04:00',\n",
       " 1900]"
      ]
     },
     "execution_count": 8,
     "metadata": {},
     "output_type": "execute_result"
    }
   ],
   "source": [
    "# Example of qsearch API metadata\n",
    "s1[0]"
   ]
  },
  {
   "cell_type": "code",
   "execution_count": 9,
   "metadata": {
    "collapsed": false,
    "deletable": true,
    "editable": true
   },
   "outputs": [
    {
     "data": {
      "text/plain": [
       "[u'documents.datecreated:([20140902000000 TO 20170427000000]) AND violence',\n",
       " u'2017-05-04T14:38:41.2316260-04:00',\n",
       " 1994]"
      ]
     },
     "execution_count": 9,
     "metadata": {},
     "output_type": "execute_result"
    }
   ],
   "source": [
    "s2[0]"
   ]
  },
  {
   "cell_type": "code",
   "execution_count": null,
   "metadata": {
    "collapsed": true,
    "deletable": true,
    "editable": true
   },
   "outputs": [],
   "source": [
    "# Function to list all full-text PDF file URLs from DEC records.\n",
    "def listPDFs(records):\n",
    "    pdflist = []\n",
    "    for record in records:\n",
    "        if u'File' in record:\n",
    "            pdffile = record[u'File']\n",
    "            pdflist.append(pdffile)\n",
    "        \n",
    "    return pdflist"
   ]
  },
  {
   "cell_type": "code",
   "execution_count": 21,
   "metadata": {
    "collapsed": false,
    "deletable": true,
    "editable": true
   },
   "outputs": [],
   "source": [
    "records = s1[2] + s2[2]"
   ]
  },
  {
   "cell_type": "code",
   "execution_count": 22,
   "metadata": {
    "collapsed": false,
    "deletable": true,
    "editable": true
   },
   "outputs": [
    {
     "data": {
      "text/plain": [
       "3859"
      ]
     },
     "execution_count": 22,
     "metadata": {},
     "output_type": "execute_result"
    }
   ],
   "source": [
    "len(records)"
   ]
  },
  {
   "cell_type": "code",
   "execution_count": 23,
   "metadata": {
    "collapsed": false,
    "deletable": true,
    "editable": true
   },
   "outputs": [],
   "source": [
    "# Dump records to JSON file to save API call\n",
    "json_file = r'C:\\Users\\ddavis\\Desktop\\LAC\\records.json'\n",
    "with open(json_file, 'w') as f:\n",
    "    json.dump(records, f)"
   ]
  },
  {
   "cell_type": "code",
   "execution_count": null,
   "metadata": {
    "collapsed": false,
    "deletable": true,
    "editable": true
   },
   "outputs": [],
   "source": [
    "# Example of a record in DEC\n",
    "records1[987]"
   ]
  },
  {
   "cell_type": "code",
   "execution_count": null,
   "metadata": {
    "collapsed": true,
    "deletable": true,
    "editable": true
   },
   "outputs": [],
   "source": [
    "pdflist1 = listPDFs(records1)"
   ]
  },
  {
   "cell_type": "code",
   "execution_count": null,
   "metadata": {
    "collapsed": false,
    "deletable": true,
    "editable": true
   },
   "outputs": [],
   "source": [
    "len(pdflist1)"
   ]
  },
  {
   "cell_type": "code",
   "execution_count": null,
   "metadata": {
    "collapsed": true,
    "deletable": true,
    "editable": true
   },
   "outputs": [],
   "source": [
    "pdflist2 = listPDFs(records2)"
   ]
  },
  {
   "cell_type": "code",
   "execution_count": null,
   "metadata": {
    "collapsed": false,
    "deletable": true,
    "editable": true
   },
   "outputs": [],
   "source": [
    "len(pdflist2)"
   ]
  },
  {
   "cell_type": "code",
   "execution_count": null,
   "metadata": {
    "collapsed": false,
    "deletable": true,
    "editable": true
   },
   "outputs": [],
   "source": [
    "pdflist1[34]"
   ]
  },
  {
   "cell_type": "code",
   "execution_count": null,
   "metadata": {
    "collapsed": false,
    "deletable": true,
    "editable": true
   },
   "outputs": [],
   "source": [
    "# Define function to download PDF full-text sources from DEC\n",
    "def dldecpdfs(url,folder):\n",
    "    filename = url.split('/')[-1]\n",
    "    name = os.path.join(folder,filename)\n",
    "    if not os.path.isfile(name):\n",
    "        try:\n",
    "            urllib.urlretrieve(url,name)\n",
    "        except Exception:\n",
    "            print ' DOWNLOAD FAILED: ',url"
   ]
  },
  {
   "cell_type": "code",
   "execution_count": null,
   "metadata": {
    "collapsed": true,
    "deletable": true,
    "editable": true
   },
   "outputs": [],
   "source": [
    "pdf_folder = r'C:\\Users\\ddavis\\Desktop\\LAC\\PDFs'"
   ]
  },
  {
   "cell_type": "code",
   "execution_count": null,
   "metadata": {
    "collapsed": false,
    "deletable": true,
    "editable": true
   },
   "outputs": [],
   "source": [
    "for idx,pdf in enumerate(pdflist1):\n",
    "    sys.stdout.write(\"\\r{0}\".format(round((float(idx)/len(pdflist1))*100),3))\n",
    "    dldecpdfs(pdf,pdf_folder)\n",
    "   "
   ]
  },
  {
   "cell_type": "code",
   "execution_count": null,
   "metadata": {
    "collapsed": false,
    "deletable": true,
    "editable": true
   },
   "outputs": [],
   "source": [
    "for idx,pdf in enumerate(pdflist2):\n",
    "    sys.stdout.write(\"\\r{0}\".format(round((float(idx)/len(pdflist2))*100),3))\n",
    "    dldecpdfs(pdf,pdf_folder)\n",
    "    "
   ]
  },
  {
   "cell_type": "code",
   "execution_count": null,
   "metadata": {
    "collapsed": false,
    "deletable": true,
    "editable": true
   },
   "outputs": [],
   "source": [
    "from pdfminer.pdfinterp import PDFResourceManager, PDFPageInterpreter\n",
    "from pdfminer.converter import TextConverter\n",
    "from pdfminer.layout import LAParams\n",
    "from pdfminer.pdfpage import PDFPage\n",
    "from cStringIO import StringIO\n",
    "\n",
    "TIMEOUT = 90\n",
    "TIMEINT = 1\n",
    "pdf_folder = r'C:\\Users\\ddavis\\Desktop\\LAC\\PDFs'\n",
    "txt_folder = r'C:\\Users\\ddavis\\Desktop\\LAC\\TXTs'\n",
    "\n",
    "filelist = [f for f in os.listdir(pdf_folder) if os.path.isfile(os.path.join(pdf_folder, f))]\n",
    "\n",
    "def convert_pdf_to_txt(path):\n",
    "    rsrcmgr = PDFResourceManager()\n",
    "    retstr = StringIO()\n",
    "    codec = 'utf-8'\n",
    "    laparams = LAParams()\n",
    "    device = TextConverter(rsrcmgr, retstr, codec=codec, laparams=laparams)\n",
    "    interpreter = PDFPageInterpreter(rsrcmgr, device)\n",
    "    password = \"\"\n",
    "    maxpages = 0\n",
    "    caching = True\n",
    "    pagenos=set()\n",
    "\n",
    "    with open(path, 'rb') as fp:\n",
    "        for page in PDFPage.get_pages(fp, pagenos, maxpages=maxpages, password=password,caching=caching, check_extractable=True):\n",
    "            interpreter.process_page(page)\n",
    "        device.close()\n",
    "        str = retstr.getvalue()\n",
    "        retstr.close()\n",
    "\n",
    "    return str\n",
    "\n",
    "def convert(pdf_path, pdf_file):\n",
    "    txtfile = text_file_name(pdf_file)\n",
    "    with open(txtfile, 'w') as t:\n",
    "        try:\n",
    "            t.write(convert_pdf_to_txt(pdf_path + '\\\\' + pdf_file))\n",
    "        except Exception:\n",
    "            print ' COULD NOT CONVERT FILE: ',pdf_file\n",
    "\n",
    "\n",
    "def text_file_name(pdf_file):\n",
    "    return os.path.join(txt_folder, pdf_file.split('.')[0] + '.txt')\n",
    "\n",
    "\n",
    "if __name__ == \"__main__\":\n",
    "    for idx,f in enumerate(filelist):\n",
    "        if not os.path.isfile(text_file_name(f)):\n",
    "            p = Process(target=convert, args=(pdf_folder, f))\n",
    "            p.start()\n",
    "            p.join(TIMEOUT)\n",
    "\n",
    "            if p.is_alive():\n",
    "                p.terminate()\n",
    "                print ' TIMEOUT: ',f\n",
    "\n",
    "        sys.stdout.write(\"\\r{0}\".format(round(float(idx)/len(filelist),4)*100))\n",
    "        #sys.stdout.write(\"\\r{0}\".format('['))\n",
    "        #sys.stdout.write(\"{:10}\".format('#'*int((float(idx)/len(filelist))*10)))\n",
    "        #sys.stdout.write(\"{0}\".format('] '))\n",
    "        #sys.stdout.write(\"{0}\".format(round(float(idx)/len(filelist),4)*100))\n",
    "        #sys.stdout.flush()"
   ]
  },
  {
   "cell_type": "markdown",
   "metadata": {
    "collapsed": true,
    "deletable": true,
    "editable": true
   },
   "source": [
    "For country tags, count the number of mentions for each country and then tag with the one most mentioned. \n",
    "Process by adding tags, then filtering, adding tags, etc."
   ]
  },
  {
   "cell_type": "markdown",
   "metadata": {
    "deletable": true,
    "editable": true
   },
   "source": [
    "List of countries of interest:\n",
    "* Honduras\n",
    "* El Salvador\n",
    "* Guatemala\n",
    "* Mexico\n",
    "* Nicaragua\n",
    "* Caribbean base\n",
    "    * Jamaica\n",
    "    * Dominican Republic\n",
    "    * Trinidad and Tobago\n",
    "    * Saint Lucia\n",
    "    * Saint Kitts and Nevis\n",
    "    * Barbados\n"
   ]
  },
  {
   "cell_type": "code",
   "execution_count": 26,
   "metadata": {
    "collapsed": false,
    "deletable": true,
    "editable": true
   },
   "outputs": [
    {
     "name": "stdout",
     "output_type": "stream",
     "text": [
      "100.0"
     ]
    }
   ],
   "source": [
    "# Possible regex for countries:\n",
    "txt_path = r'C:\\Users\\ddavis\\Desktop\\LAC\\TXTs'\n",
    "NTHRESH = 5\n",
    "\n",
    "countries = re.compile(r'''(?P<honduras>honduras)|\n",
    "                  (?P<el_salvador>el\\s+salvador)|\n",
    "                  (?P<guatemala>guatemala)|\n",
    "                  (?P<mexico>mexico|méxico)|\n",
    "                  (?P<nicaragua>nicaragua)|\n",
    "                  (?P<latin_america>latin\\s+america|america\\s+latina)|\n",
    "                  (?P<northern_triangle>northern\\s+triangle|triángulo\\s+del\\s+norte)\n",
    "                  (?P<jamaica>jamaica)|\n",
    "                  (?P<dominican_rep>dominican\\s+republic|dominican\\s+rep.|república\\s+dominicana)|\n",
    "                  (?P<trinidad>trinidad\\s+and\\s+tobago)|\n",
    "                  (?P<saint_lucia>saint\\s+lucia)|\n",
    "                  (?P<saint_kitts>saint\\s+kitts\\s+and\\s+nevis)|\n",
    "                  (?P<barbados>barbados)|\n",
    "                  (?P<caribbean>caribbean|caribe)''', re.X|re.I)\n",
    "\n",
    "txtlist = [f for f in os.listdir(txt_path) if os.path.isfile(os.path.join(txt_path, f))]\n",
    "\n",
    "country_tags = {}\n",
    "for idx,txtfile in enumerate(txtlist):\n",
    "    fileid = txtfile.split('.')[0]\n",
    "    txtfile_path = os.path.join(txt_path,txtfile)\n",
    "    matchnums = {}\n",
    "    with open(txtfile_path, 'r') as f:\n",
    "        for line in f:\n",
    "            tag = countries.search(line)\n",
    "            if tag:\n",
    "                for grp,val in tag.groupdict().items():\n",
    "                    if val is not None:\n",
    "                        if grp in matchnums:\n",
    "                            matchnums[grp] += 1\n",
    "                        else:\n",
    "                            matchnums[grp] = 1\n",
    "\n",
    "    for key,val in matchnums.items():\n",
    "        if val < NTHRESH:\n",
    "            matchnums.pop(key, None)\n",
    "\n",
    "    if matchnums:\n",
    "        country_tags[fileid] = matchnums.keys()\n",
    "    sys.stdout.write(\"\\r{0}\".format(round(float(idx)/len(txtlist),3)*100))\n",
    "                "
   ]
  },
  {
   "cell_type": "code",
   "execution_count": null,
   "metadata": {
    "collapsed": false,
    "deletable": true,
    "editable": true
   },
   "outputs": [],
   "source": [
    "country_tags"
   ]
  },
  {
   "cell_type": "code",
   "execution_count": 75,
   "metadata": {
    "collapsed": false,
    "deletable": true,
    "editable": true
   },
   "outputs": [],
   "source": [
    "# Don't run this; only used for clearing blanks\n",
    "\n",
    "txt_folder = r'C:\\Users\\ddavis\\Desktop\\LAC\\TXTs'\n",
    "txtlist = os.listdir(txt_folder)\n",
    "\n",
    "for txt in txtlist:\n",
    "    path = os.path.join(txt_folder,txt)\n",
    "    if os.stat(path).st_size <= 1000:\n",
    "        os.remove(path)\n",
    "        "
   ]
  },
  {
   "cell_type": "markdown",
   "metadata": {
    "deletable": true,
    "editable": true
   },
   "source": [
    "Key terms or tags:\n",
    "* youth/teenager/young adult/juvenile/children/adolescent\n",
    "* Homicide\n",
    "* Homicide reduction\n",
    "* Fear of violence\n",
    "* Recidivism\n",
    "* Extortion\n",
    "* Insecurity\n",
    "* School desertion\n",
    "* Cognitive behavioral therapy\n",
    "* Psycho-social interventions\n",
    "* Parental support\n",
    "* ni-nis (ni estudian ni trabajan)\n",
    "* Focus deterence\n",
    "* Hot spot policing\n",
    "* Bullying\n",
    "* Assault\n",
    "* Gang activity\n"
   ]
  },
  {
   "cell_type": "code",
   "execution_count": null,
   "metadata": {
    "collapsed": true,
    "deletable": true,
    "editable": true
   },
   "outputs": [],
   "source": [
    "keyterms = re.compile(r'''(?P<youth>youth|teenager|young adult|juvenile|children|adolescent|juventud|adolescente|joven)|\n",
    "                      (?P<homicide>homicide|homicidio)|\n",
    "                      (?P<homicide_reduction>homicide reduction|reducción de homicidios)|\n",
    "                      (?P<fear_of_violence>fear of violence|miedo a la violencia)|\n",
    "                      (?P<recidivism>recidivism|reincidencia)|\n",
    "                      (?P<extortion>extortion|extorsión)|\n",
    "                      (?P<insecurity>insecurity|inseguridad)|\n",
    "                      (?P<school_desertion>school desertion|deserción escolar)|\n",
    "                      (?P<cognitive>cognitive behavioral therapy|terapia cognitiva conductual)|\n",
    "                      (?P<psychosocial>psycho-social intervention)|\n",
    "                      (?P<parental_support>parental support|apoyo de los padres)|\n",
    "                      (?P<ninis>ni-nis|ninis|ni estudian ni trabajan)|\n",
    "                      (?P<focus_deterrence>focus deterrence|disuasión focal)|\n",
    "                      (?P<hot_spot_policing>hot spot policing)|\n",
    "                      (?P<bullying>bullying|acoso)|\n",
    "                      (?P<assault>assault|asalto)|\n",
    "                      (?P<gangs>gang activity|gangs|actividad de pandillas|pandillas)''', re.X|re.I)"
   ]
  },
  {
   "cell_type": "code",
   "execution_count": 28,
   "metadata": {
    "collapsed": false,
    "deletable": true,
    "editable": true
   },
   "outputs": [
    {
     "name": "stdout",
     "output_type": "stream",
     "text": [
      "99.9"
     ]
    }
   ],
   "source": [
    "#First Tier Keywords\n",
    "txt_path = r'C:\\Users\\ddavis\\Desktop\\LAC\\TXTs'\n",
    "NTHRESH = 5\n",
    "\n",
    "#keyterms = re.compile(r'''(?P<violence>violence|violencia)|\n",
    "#                      (?P<crime>crime|criminal|crimen)|\n",
    "#                      (?P<homicide>homicide|homicidio)|\n",
    "#                      (?P<assault>assault|asalto)|\n",
    "#                      (?P<gang>gang|pandilla)|\n",
    "#                      (?P<youth>youth|juventud|jóvenes)|\n",
    "#                      (?P<young>young|joven|juvenil)|\n",
    "#                      (?P<child>child|niño)''', re.X|re.I)\n",
    "\n",
    "keyterms = re.compile(r'''(?P<violence>violence|violencia|crime|criminal|crimen|homicide|homicidio|assault|asalto|gang|pandilla)|\n",
    "                      (?P<youth>youth|juventud|jóvenes|young|joven|juvenil|child|niño)''', re.X|re.I)\n",
    "\n",
    "txtlist = [f + '.txt' for f in country_tags.keys()]\n",
    "\n",
    "tier1_tags = {}\n",
    "for idx,txtfile in enumerate(txtlist):\n",
    "    fileid = txtfile.split('.')[0]\n",
    "    txtfile_path = os.path.join(txt_path,txtfile)\n",
    "    matchnums = {}\n",
    "    with open(txtfile_path, 'r') as f:\n",
    "        for line in f:\n",
    "            tag = keyterms.search(line)\n",
    "            if tag:\n",
    "                for grp,val in tag.groupdict().items():\n",
    "                    if val is not None:\n",
    "                        if grp in matchnums:\n",
    "                            matchnums[grp] += 1\n",
    "                        else:\n",
    "                            matchnums[grp] = 1\n",
    "\n",
    "    for key,val in matchnums.items():\n",
    "        if val < NTHRESH:\n",
    "            matchnums.pop(key, None)\n",
    "\n",
    "    if matchnums:\n",
    "        tier1_tags[fileid] = matchnums.keys()\n",
    "    sys.stdout.write(\"\\r{0}\".format(round(float(idx)/len(txtlist),3)*100))"
   ]
  },
  {
   "cell_type": "code",
   "execution_count": 29,
   "metadata": {
    "collapsed": false,
    "deletable": true,
    "editable": true
   },
   "outputs": [],
   "source": [
    "tier1 = [x for x in tier1_tags.keys() if tier1_tags[x] == ['youth', 'violence']]"
   ]
  },
  {
   "cell_type": "code",
   "execution_count": 30,
   "metadata": {
    "collapsed": false,
    "deletable": true,
    "editable": true
   },
   "outputs": [
    {
     "data": {
      "text/plain": [
       "537"
      ]
     },
     "execution_count": 30,
     "metadata": {},
     "output_type": "execute_result"
    }
   ],
   "source": [
    "len(tier1)"
   ]
  },
  {
   "cell_type": "code",
   "execution_count": 31,
   "metadata": {
    "collapsed": false,
    "deletable": true,
    "editable": true
   },
   "outputs": [
    {
     "name": "stdout",
     "output_type": "stream",
     "text": [
      "99.8"
     ]
    }
   ],
   "source": [
    "#Second Tier Keywords\n",
    "txt_path = r'C:\\Users\\ddavis\\Desktop\\LAC\\TXTs'\n",
    "NTHRESH = 5\n",
    "\n",
    "keyterms = re.compile(r'''(?P<recruit>recruit|recluta)|\n",
    "                      (?P<recidivism>redicivism|reincidencia)|\n",
    "                      (?P<extortion>extortion|extorsión)|\n",
    "                      (?P<fd>focused\\s+deterrence|disuasión\\s+focalizada)|\n",
    "                      (?P<hot_spot>hot\\s+spot\\s+policing)|\n",
    "                      (?P<bully>bully|matón|acoso)''', re.X|re.I)\n",
    "\n",
    "txtlist = [f + '.txt' for f in tier1]\n",
    "\n",
    "tier2_tags = {}\n",
    "for idx,txtfile in enumerate(txtlist):\n",
    "    fileid = txtfile.split('.')[0]\n",
    "    txtfile_path = os.path.join(txt_path,txtfile)\n",
    "    matchnums = {}\n",
    "    with open(txtfile_path, 'r') as f:\n",
    "        for line in f:\n",
    "            tag = keyterms.search(line)\n",
    "            if tag:\n",
    "                for grp,val in tag.groupdict().items():\n",
    "                    if val is not None:\n",
    "                        if grp in matchnums:\n",
    "                            matchnums[grp] += 1\n",
    "                        else:\n",
    "                            matchnums[grp] = 1\n",
    "\n",
    "    for key,val in matchnums.items():\n",
    "        if val < NTHRESH:\n",
    "            matchnums.pop(key, None)\n",
    "\n",
    "    if matchnums:\n",
    "        tier2_tags[fileid] = matchnums.keys()\n",
    "    sys.stdout.write(\"\\r{0}\".format(round(float(idx)/len(txtlist),3)*100))"
   ]
  },
  {
   "cell_type": "code",
   "execution_count": 32,
   "metadata": {
    "collapsed": false,
    "deletable": true,
    "editable": true
   },
   "outputs": [
    {
     "data": {
      "text/plain": [
       "147"
      ]
     },
     "execution_count": 32,
     "metadata": {},
     "output_type": "execute_result"
    }
   ],
   "source": [
    "len(tier2_tags)"
   ]
  },
  {
   "cell_type": "code",
   "execution_count": null,
   "metadata": {
    "collapsed": false,
    "deletable": true,
    "editable": true
   },
   "outputs": [],
   "source": [
    "tier2_tags"
   ]
  },
  {
   "cell_type": "code",
   "execution_count": 24,
   "metadata": {
    "collapsed": false,
    "deletable": true,
    "editable": true
   },
   "outputs": [],
   "source": [
    "with open(r'C:\\Users\\ddavis\\Desktop\\LAC\\records.json', 'r') as f:\n",
    "    records = json.load(f)"
   ]
  },
  {
   "cell_type": "code",
   "execution_count": 25,
   "metadata": {
    "collapsed": false,
    "deletable": true,
    "editable": true
   },
   "outputs": [
    {
     "data": {
      "text/plain": [
       "u'http://pdf.usaid.gov/pdf_docs/PNADZ984.pdf'"
      ]
     },
     "execution_count": 25,
     "metadata": {},
     "output_type": "execute_result"
    }
   ],
   "source": [
    "records[5][u'File']"
   ]
  },
  {
   "cell_type": "code",
   "execution_count": 34,
   "metadata": {
    "collapsed": true,
    "deletable": true,
    "editable": true
   },
   "outputs": [],
   "source": [
    "alltags = {}\n",
    "for key,val in tier2_tags.items():\n",
    "    if key in country_tags.keys():\n",
    "        alltags[key] = [val, country_tags[key]]\n",
    "    "
   ]
  },
  {
   "cell_type": "code",
   "execution_count": 35,
   "metadata": {
    "collapsed": false,
    "deletable": true,
    "editable": true
   },
   "outputs": [],
   "source": [
    "for key, val in alltags.items():\n",
    "    newkey = u'http://pdf.usaid.gov/pdf_docs/' + key + '.pdf'\n",
    "    alltags[newkey] = alltags.pop(key)\n"
   ]
  },
  {
   "cell_type": "code",
   "execution_count": 36,
   "metadata": {
    "collapsed": false,
    "deletable": true,
    "editable": true
   },
   "outputs": [],
   "source": [
    "shortlist = []\n",
    "for record in records:\n",
    "    if u'File' in record:\n",
    "        if record[u'File'] in alltags.keys():\n",
    "            record['Tier2Tags'] = ', '.join(alltags[record[u'File']][0])\n",
    "            record['Countries'] = ', '.join(alltags[record[u'File']][1])\n",
    "            shortlist.append(record)"
   ]
  },
  {
   "cell_type": "code",
   "execution_count": 37,
   "metadata": {
    "collapsed": false,
    "deletable": true,
    "editable": true
   },
   "outputs": [
    {
     "data": {
      "text/plain": [
       "{u'Abstract': u'',\n",
       " u'Ancillary_Data': u'Also known as: Gender and conflict 2011 speaker series combined report',\n",
       " u'Bibliographic_Type': u'Conference Proceedings/Paper',\n",
       " u'ContentType': u'Documents',\n",
       " u'Contract_Grant_Number': u'DFD-I-00-05-00245-00/AID-OAA-TO-10-00054',\n",
       " 'Countries': 'el_salvador',\n",
       " u'Credit': u'',\n",
       " u'Date_Resource_Created': u'3/1/2011 12:00:00 AM',\n",
       " u'Description': u'',\n",
       " u'Descriptors_Geographic': u'China/India/Nigeria/Liberia/Yugoslavia/Ireland/Yemen/Afghanistan/Sierra Leone',\n",
       " u'Descriptors_Topical': u'Beliefs/Crimes/Democracy/Literature/Religion/Violence/Women',\n",
       " u'Evaluated_AID_Contract_Num': u'',\n",
       " u'File': u'http://pdf.usaid.gov/pdf_docs/PNADY973.pdf',\n",
       " u'File_Size': u'1236 KB',\n",
       " u'Inst_Author': u'006007 - AMEX International, Inc.',\n",
       " u'Inst_Publisher': u'',\n",
       " u'Inst_Sponsor': u'011008 - USAID. Bur. for Democracy, Confict and Humanitarian Assistance. Ofc. of Conflict Management and Mitigation',\n",
       " u'Language': u'English',\n",
       " u'Mime_Type': u'application/pdf',\n",
       " u'New_Thesaurus_Terms': u'',\n",
       " u'Notes': u'',\n",
       " u'Personal_Author': u'',\n",
       " u'Primary_Subject': u'Gender issues (General)',\n",
       " u'Publication_Date_Freeform': u'11 Mar 2011',\n",
       " u'Related_Doc_Links': u'',\n",
       " u'Report_Number': u'',\n",
       " u'Series_Title': u'',\n",
       " 'Tier2Tags': 'recruit',\n",
       " u'Title': u'USAID Office of Conflict Management and Mitigation 2011 speaker series : gender and conflict',\n",
       " u'Title_Translated': u'',\n",
       " u'URI': u'https://dec.usaid.gov/dec/content/Detail.aspx?ctID=ODVhZjk4NWQtM2YyMi00YjRmLTkxNjktZTcxMjM2NDBmY2Uy&rID=MzIxODk2',\n",
       " u'USAID_Geography': u'',\n",
       " u'USAID_Project_Number': u'',\n",
       " u'Unique_ID': u'PN-ADY-973'}"
      ]
     },
     "execution_count": 37,
     "metadata": {},
     "output_type": "execute_result"
    }
   ],
   "source": [
    "shortlist[0]"
   ]
  },
  {
   "cell_type": "code",
   "execution_count": 39,
   "metadata": {
    "collapsed": true,
    "deletable": true,
    "editable": true
   },
   "outputs": [],
   "source": [
    "# Keep fields of interest from DEC metadata and write to Excel sheet\n",
    "catfields = [u'Abstract',\n",
    "             'Countries',\n",
    "             u'Bibliographic_Type',\n",
    "             u'Personal_Author',\n",
    "             u'Language',\n",
    "             u'Contract_Grant_Number',\n",
    "             u'URI',\n",
    "             u'USAID_Project_Number',\n",
    "             u'Title',\n",
    "             u'Publication_Date_Freeform',\n",
    "             u'Descriptors_Topical',\n",
    "             u'Descriptors_Geographic',\n",
    "             'Tier2Tags',\n",
    "             u'Unique_ID',\n",
    "             u'Inst_Sponsor',\n",
    "             u'Inst_Author',\n",
    "             u'Primary_Subject',\n",
    "             u'Title_Translated']\n",
    "\n",
    "sl2excel = []\n",
    "for src in shortlist:\n",
    "    src = {x: src[x] for x in catfields}\n",
    "    sl2excel.append(src)\n",
    "    \n",
    "df = pd.DataFrame(sl2excel)\n",
    "df.to_excel(r'C:\\Users\\ddavis\\Desktop\\LAC\\shortlist.xls', index=False)"
   ]
  },
  {
   "cell_type": "code",
   "execution_count": 214,
   "metadata": {
    "collapsed": true
   },
   "outputs": [],
   "source": [
    "json_file = r'C:\\Users\\ddavis\\Desktop\\LAC\\sl2excel.json'\n",
    "with open(json_file, 'w') as f:\n",
    "    json.dump(records, f)"
   ]
  },
  {
   "cell_type": "code",
   "execution_count": 40,
   "metadata": {
    "collapsed": false,
    "deletable": true,
    "editable": true
   },
   "outputs": [
    {
     "data": {
      "text/plain": [
       "{u'Abstract': u'',\n",
       " u'Bibliographic_Type': u'Conference Proceedings/Paper',\n",
       " u'Contract_Grant_Number': u'DFD-I-00-05-00245-00/AID-OAA-TO-10-00054',\n",
       " 'Countries': 'el_salvador',\n",
       " u'Descriptors_Geographic': u'China/India/Nigeria/Liberia/Yugoslavia/Ireland/Yemen/Afghanistan/Sierra Leone',\n",
       " u'Descriptors_Topical': u'Beliefs/Crimes/Democracy/Literature/Religion/Violence/Women',\n",
       " u'Inst_Author': u'006007 - AMEX International, Inc.',\n",
       " u'Inst_Sponsor': u'011008 - USAID. Bur. for Democracy, Confict and Humanitarian Assistance. Ofc. of Conflict Management and Mitigation',\n",
       " u'Language': u'English',\n",
       " u'Personal_Author': u'',\n",
       " u'Primary_Subject': u'Gender issues (General)',\n",
       " u'Publication_Date_Freeform': u'11 Mar 2011',\n",
       " 'Tier2Tags': 'recruit',\n",
       " u'Title': u'USAID Office of Conflict Management and Mitigation 2011 speaker series : gender and conflict',\n",
       " u'Title_Translated': u'',\n",
       " u'URI': u'https://dec.usaid.gov/dec/content/Detail.aspx?ctID=ODVhZjk4NWQtM2YyMi00YjRmLTkxNjktZTcxMjM2NDBmY2Uy&rID=MzIxODk2',\n",
       " u'USAID_Project_Number': u'',\n",
       " u'Unique_ID': u'PN-ADY-973'}"
      ]
     },
     "execution_count": 40,
     "metadata": {},
     "output_type": "execute_result"
    }
   ],
   "source": [
    "sl2excel[0]"
   ]
  },
  {
   "cell_type": "code",
   "execution_count": 41,
   "metadata": {
    "collapsed": false,
    "deletable": true,
    "editable": true
   },
   "outputs": [],
   "source": [
    "# Obtain publication year from freeform date field and join tags into one field\n",
    "for src in sl2excel:\n",
    "    pubyear = re.search(r'[2][0][0-9][0-9]', src[u'Publication_Date_Freeform'])\n",
    "    if pubyear is not None:\n",
    "        src['PY'] = unicode(pubyear.group(0))\n",
    "    src['KW'] = unicode(', '.join([src['Countries'],src['Tier2Tags']]))\n",
    "    "
   ]
  },
  {
   "cell_type": "code",
   "execution_count": 42,
   "metadata": {
    "collapsed": false,
    "deletable": true,
    "editable": true
   },
   "outputs": [
    {
     "data": {
      "text/plain": [
       "{u'Abstract': u'<span style=\"font-family: Arial; font-size: small;\">The Program Against Violence and Impunity (PAVI) project was focused on: (1) the strengthening of prosecution and trial of homicides and other serious crimes; (2) improvement of management and coordination systems among justice sector institutions, including support for the design and implementation of merit-based personnel hiring and promotion systems; and, (3) the targeting of Peten as a region in need of special attention where an integrated approach was required. &nbsp;Based on research and fieldwork, the evaluation concluded that PAVI\\'s most important contributions to the rule of law in Guatemala were: (1) increased and improved prosecution of crimes against life; (2) improved the installations and the security of the High Impact Courts; (3) made the 24-hour Courts less expensive to manage; (4) designed an annual evaluation system for 500 justices of the peace and 350 trial judges and the reorganization of the Judicial School; (5) organized a civil society organizations group to provide services to increase protection to victims of crime and violence, particularly women; and (6) improved prosecution of crimes against the environment in Peten. &nbsp;(Excerpt, modified)</span>',\n",
       " u'Bibliographic_Type': u'Final Evaluation Report',\n",
       " u'Contract_Grant_Number': u'AID-520-O-13-00002',\n",
       " 'Countries': 'honduras, mexico, latin_america, el_salvador, guatemala',\n",
       " u'Descriptors_Geographic': u'Guatemala',\n",
       " u'Descriptors_Topical': u'Crimes/Economic development/Litigation/Management/Mass media/Violence',\n",
       " u'Inst_Author': u'040292 - Rivera-Cira Consulting, Inc. (RCC)',\n",
       " u'Inst_Sponsor': u'008550 - USAID. Mission to Guatemala',\n",
       " 'KW': u'honduras, mexico, latin_america, el_salvador, guatemala, recruit',\n",
       " u'Language': u'English',\n",
       " 'PY': u'2012',\n",
       " u'Personal_Author': u'Cira, Carl/Rivera, Tirza',\n",
       " u'Primary_Subject': u'Rule of law',\n",
       " u'Publication_Date_Freeform': u'20 Dec 2012',\n",
       " 'Tier2Tags': 'recruit',\n",
       " u'Title': u'USAID/Guatemala final performance evaluation for the project against violence and impunity',\n",
       " u'Title_Translated': u'',\n",
       " u'URI': u'https://dec.usaid.gov/dec/content/Detail.aspx?ctID=ODVhZjk4NWQtM2YyMi00YjRmLTkxNjktZTcxMjM2NDBmY2Uy&rID=MzQwMDM0',\n",
       " u'USAID_Project_Number': u'',\n",
       " u'Unique_ID': u'PD-ACU-766'}"
      ]
     },
     "execution_count": 42,
     "metadata": {},
     "output_type": "execute_result"
    }
   ],
   "source": [
    "sl2excel[7]"
   ]
  },
  {
   "cell_type": "code",
   "execution_count": 2,
   "metadata": {
    "collapsed": false,
    "deletable": true,
    "editable": true
   },
   "outputs": [
    {
     "ename": "IOError",
     "evalue": "[Errno 2] No such file or directory: 'H:\\\\LAC Region Projects\\\\LAC Youth Violence Prevention\\\\Deliverables\\\\Catalog\\\\Findings for Catalog_2017_0421.xlsx'",
     "output_type": "error",
     "traceback": [
      "\u001b[1;31m---------------------------------------------------------------------------\u001b[0m",
      "\u001b[1;31mIOError\u001b[0m                                   Traceback (most recent call last)",
      "\u001b[1;32m<ipython-input-2-e9483c48e358>\u001b[0m in \u001b[0;36m<module>\u001b[1;34m()\u001b[0m\n\u001b[0;32m      1\u001b[0m \u001b[1;31m# Open Excel sheet of manaul catalog findings for comparison/filtering and process to dictionary.\u001b[0m\u001b[1;33m\u001b[0m\u001b[1;33m\u001b[0m\u001b[0m\n\u001b[1;32m----> 2\u001b[1;33m catalog = pd.read_excel(open(r'H:\\LAC Region Projects\\LAC Youth Violence Prevention\\Deliverables\\Catalog\\Findings for Catalog_2017_0421.xlsx','rb'),\n\u001b[0m\u001b[0;32m      3\u001b[0m                         sheetname='Findings')\n\u001b[0;32m      4\u001b[0m \u001b[1;33m\u001b[0m\u001b[0m\n\u001b[0;32m      5\u001b[0m \u001b[0mcatalog\u001b[0m \u001b[1;33m=\u001b[0m \u001b[0mcatalog\u001b[0m\u001b[1;33m.\u001b[0m\u001b[0mto_dict\u001b[0m\u001b[1;33m(\u001b[0m\u001b[1;34m'records'\u001b[0m\u001b[1;33m)\u001b[0m\u001b[1;33m\u001b[0m\u001b[0m\n",
      "\u001b[1;31mIOError\u001b[0m: [Errno 2] No such file or directory: 'H:\\\\LAC Region Projects\\\\LAC Youth Violence Prevention\\\\Deliverables\\\\Catalog\\\\Findings for Catalog_2017_0421.xlsx'"
     ]
    }
   ],
   "source": [
    "# Open Excel sheet of manual catalog findings for comparison/filtering and process to dictionary.\n",
    "catalog = pd.read_excel(open(r'H:\\LAC Region Projects\\LAC Youth Violence Prevention\\Deliverables\\Catalog\\Findings for Catalog_2017_0421.xlsx','rb'),\n",
    "                        sheetname='Findings')\n",
    "\n",
    "catalog = catalog.to_dict('records')"
   ]
  },
  {
   "cell_type": "code",
   "execution_count": 109,
   "metadata": {
    "collapsed": false
   },
   "outputs": [
    {
     "name": "stdout",
     "output_type": "stream",
     "text": [
      "88\n",
      "33\n"
     ]
    }
   ],
   "source": [
    "catalog_path1 = r'H:\\LAC Region Projects\\LAC Youth Violence Prevention\\Deliverables\\Catalog\\04 Distiller Uploads\\01 Excel Workbook Uploads\\DEC manual search 1 thur 88_ST.csv'\n",
    "catalog_path2 = r'H:\\LAC Region Projects\\LAC Youth Violence Prevention\\Deliverables\\Catalog\\04 Distiller Uploads\\01 Excel Workbook Uploads\\DEC manual search 89 thru 92 DD.csv'\n",
    "\n",
    "with open(catalog_path1, 'r') as f:\n",
    "    catalog1 = [{k: v for k, v in row.items()}\n",
    "        for row in csv.DictReader(f, skipinitialspace=True)]\n",
    "    \n",
    "print len(catalog1)\n",
    "    \n",
    "with open(catalog_path2, 'r') as f:\n",
    "    catalog2 = [{k: v for k, v in row.items()}\n",
    "        for row in csv.DictReader(f, skipinitialspace=True)]\n",
    "    \n",
    "print len(catalog2)\n",
    "    "
   ]
  },
  {
   "cell_type": "code",
   "execution_count": 143,
   "metadata": {
    "collapsed": false
   },
   "outputs": [],
   "source": [
    "catalog = catalog1 + catalog2[0:4]"
   ]
  },
  {
   "cell_type": "code",
   "execution_count": 144,
   "metadata": {
    "collapsed": false
   },
   "outputs": [],
   "source": [
    "for src in catalog:\n",
    "    for key, val in src.items():\n",
    "        src[key.strip()] = src.pop(key)"
   ]
  },
  {
   "cell_type": "code",
   "execution_count": 146,
   "metadata": {
    "collapsed": false
   },
   "outputs": [
    {
     "data": {
      "text/plain": [
       "{u'Abstract/Description': u'',\n",
       " u'Agreement/award Number': u'524-A-00-06-00004-00',\n",
       " u'Author': u'American Institutes for Research (AIR)',\n",
       " u'Budget': u'',\n",
       " u'DEC Document ID': u'PA-00J-ZKR',\n",
       " u'Document accessibility': u'open-access',\n",
       " u'Evaluation Conducted?': u'',\n",
       " u'Interventions Achieved': u'',\n",
       " u'Is it research?': u'No',\n",
       " u'Keywords': u'Education, Jewelry, Mass media, Students, Teachers, Youth',\n",
       " u'Language': u'English',\n",
       " u'Main Activities (Inputs)': u'',\n",
       " u'Outputs': u'',\n",
       " u'Partners': u'American Institutes for Research (AIR), FADCANIC, Aga Khan Foundation, CARE, Discovery Channel Global Education Fund, Education Development Center, FHI 360, Howard University, International Reading Association, The Joseph P. Kennedy Jr. Foundation, Juarez and Associates Inc., Michigan State University, Sesame Workshop, Save the Children Federation USA, University of Pittsburgh, World Education ',\n",
       " u'Program Dates': u'09/30/2009 - 09/30/2014',\n",
       " u'Program Name': u'CARSI/Merida Youth At-Risk project under the Project Expansion of Centers of Excellence in Nicaragua with Emphasis on the APA Methodology (EXCELENCIA)',\n",
       " u'Publication Date': u'Jul-10',\n",
       " u'Refid': u'91',\n",
       " u'Region': u'Nicaragua',\n",
       " u'Relevance to Topic': u'Yes',\n",
       " u'Relevant to Population': u'Yes',\n",
       " u'Relevant to Region': u'Yes',\n",
       " u'Share Drive Folder': u'\\\\\\\\dc1fs\\\\intwork\\\\LAC Region Projects\\\\LAC Youth Violence Prevention\\\\Deliverables\\\\Catalog\\\\01 Publications_DEC',\n",
       " u'Source': u'DEC',\n",
       " u'Target Group': u'',\n",
       " u'Target Population': u'',\n",
       " u'Team Member/Date Found': u'Sara 5/15/17',\n",
       " u'Title': u'CARSI-Merida Youth at Risk Project Quarterly Report',\n",
       " u'Type of Document': u'Periodic Report',\n",
       " u'Type of Evidence': u'',\n",
       " u'Type of Programming': u'',\n",
       " u'URL': u'https://dec.usaid.gov/dec/content/Detail.aspx?q=ZG9jdW1lbnRzLmNvbnRyYWN0X2dyYW50X251bWJlcjooIjUyNC1BLTAwLTA2LTAwMDA0LTAwIik=&ctID=ODVhZjk4NWQtM2YyMi00YjRmLTkxNjktZTcxMjM2NDBmY2Uy&rID=MzUwOTE3&qcf=ODVhZjk4NWQtM2YyMi00YjRmLTkxNjktZTcxMjM2NDBmY2Uy&ph=VHJ1ZQ==&bckToL=VHJ1ZQ==&',\n",
       " u'USAID Sponsor': u'USAID Mission to Nicaragua',\n",
       " u'World Bank Income Level': u''}"
      ]
     },
     "execution_count": 146,
     "metadata": {},
     "output_type": "execute_result"
    }
   ],
   "source": [
    "catalog[90]"
   ]
  },
  {
   "cell_type": "code",
   "execution_count": 215,
   "metadata": {
    "collapsed": true
   },
   "outputs": [],
   "source": [
    "json_file = r'C:\\Users\\ddavis\\Desktop\\LAC\\catalog.json'\n",
    "with open(json_file, 'w') as f:\n",
    "    json.dump(records, f)"
   ]
  },
  {
   "cell_type": "code",
   "execution_count": 194,
   "metadata": {
    "collapsed": true,
    "deletable": true,
    "editable": true
   },
   "outputs": [],
   "source": [
    "cat2ris = {'LA': u'Language',\n",
    "           'U1': u'Agreement/award Number',\n",
    "           'U2': u'Type of Document',\n",
    "           'DA': u'Publication Date',\n",
    "           'KW': u'Keywords',\n",
    "           'AU': u'Author',\n",
    "           'UR': u'URL',\n",
    "           'A3': u'USAID Sponsor',\n",
    "           'AN': u'DEC Document ID',\n",
    "           'TI': u'Title',\n",
    "           'AB': u'Abstract',\n",
    "           'DB': u'Source',\n",
    "           'C5': u'Partners',\n",
    "           'ID': u'Refid'}\n",
    "\n",
    "risdecmap = {'AU':u'Personal_Author',\n",
    "             'PY':'PY',\n",
    "             'A2':u'Inst_Author',\n",
    "             'A3':u'Inst_Sponser',\n",
    "             'AB':u'Abstract',\n",
    "             'UR':u'URI',\n",
    "             'DA':u'Publication_Date_Freeform',\n",
    "             'U3':u'Primary_Subject',\n",
    "             'U4':u'USAID_Project_Number',\n",
    "             'U1':u'Contract_Grant_Number',\n",
    "             'U2':u'Bibliographic_Type',\n",
    "             'C3':u'Descriptors_Topical',\n",
    "             'C4':u'Descriptors_Geographic',\n",
    "             'LA':u'Language',\n",
    "             'TI':u'Title',\n",
    "             'TT':u'Title_Translated',\n",
    "             'KW':'KW',\n",
    "             'PB':u'Inst_Publisher',\n",
    "             'N1':u'Notes',\n",
    "             'AN':u'Unique_ID'}\n",
    "\n",
    "catlist = []\n",
    "for record in catalog:\n",
    "    catrec = {}\n",
    "    for key,val in cat2ris.items():\n",
    "        if val in record.keys():\n",
    "            catrec[key] = record[val]\n",
    "            \n",
    "    catlist.append(catrec)\n"
   ]
  },
  {
   "cell_type": "code",
   "execution_count": 195,
   "metadata": {
    "collapsed": false,
    "deletable": true,
    "editable": true
   },
   "outputs": [
    {
     "data": {
      "text/plain": [
       "{'A3': u'USAID Mission to Nicaragua',\n",
       " 'AN': u'PA-00J-ZKR',\n",
       " 'AU': u'American Institutes for Research (AIR)',\n",
       " 'C5': u'American Institutes for Research (AIR), FADCANIC, Aga Khan Foundation, CARE, Discovery Channel Global Education Fund, Education Development Center, FHI 360, Howard University, International Reading Association, The Joseph P. Kennedy Jr. Foundation, Juarez and Associates Inc., Michigan State University, Sesame Workshop, Save the Children Federation USA, University of Pittsburgh, World Education ',\n",
       " 'DA': u'Jul-10',\n",
       " 'DB': u'DEC',\n",
       " 'ID': u'91',\n",
       " 'KW': u'Education, Jewelry, Mass media, Students, Teachers, Youth',\n",
       " 'LA': u'English',\n",
       " 'TI': u'CARSI-Merida Youth at Risk Project Quarterly Report',\n",
       " 'U1': u'524-A-00-06-00004-00',\n",
       " 'U2': u'Periodic Report',\n",
       " 'UR': u'https://dec.usaid.gov/dec/content/Detail.aspx?q=ZG9jdW1lbnRzLmNvbnRyYWN0X2dyYW50X251bWJlcjooIjUyNC1BLTAwLTA2LTAwMDA0LTAwIik=&ctID=ODVhZjk4NWQtM2YyMi00YjRmLTkxNjktZTcxMjM2NDBmY2Uy&rID=MzUwOTE3&qcf=ODVhZjk4NWQtM2YyMi00YjRmLTkxNjktZTcxMjM2NDBmY2Uy&ph=VHJ1ZQ==&bckToL=VHJ1ZQ==&'}"
      ]
     },
     "execution_count": 195,
     "metadata": {},
     "output_type": "execute_result"
    }
   ],
   "source": [
    "# Manual search catalog example record\n",
    "catlist[90]"
   ]
  },
  {
   "cell_type": "code",
   "execution_count": 196,
   "metadata": {
    "collapsed": false,
    "deletable": true,
    "editable": true
   },
   "outputs": [],
   "source": [
    "# Get list of DEC document IDs from manual search catalog\n",
    "included = []\n",
    "for src in catalog:\n",
    "    included.append(src[u'DEC Document ID'])"
   ]
  },
  {
   "cell_type": "code",
   "execution_count": 197,
   "metadata": {
    "collapsed": false,
    "deletable": true,
    "editable": true
   },
   "outputs": [],
   "source": [
    "# Format IDs to remove leading spaces\n",
    "included = [re.sub(r'^\\s+', '', str(x)) for x in included ]"
   ]
  },
  {
   "cell_type": "code",
   "execution_count": 198,
   "metadata": {
    "collapsed": false,
    "deletable": true,
    "editable": true
   },
   "outputs": [],
   "source": [
    "# Remove blanks\n",
    "included = [x for x in included if str(x) != 'nan']"
   ]
  },
  {
   "cell_type": "code",
   "execution_count": 199,
   "metadata": {
    "collapsed": false,
    "deletable": true,
    "editable": true
   },
   "outputs": [],
   "source": [
    "# Remove findnings from this search that have already been documented in the manual search catalog\n",
    "newfindings = [x for x in sl2excel if x[u'Unique_ID'] not in included]"
   ]
  },
  {
   "cell_type": "code",
   "execution_count": 201,
   "metadata": {
    "collapsed": false,
    "deletable": true,
    "editable": true
   },
   "outputs": [],
   "source": [
    "# Map DEC metadata fields onto pre-defined fields as specified by the RIS bibliographic format for Distiller uploads\n",
    "'''\n",
    "risdecmap = {'AU':u'Personal_Author',\n",
    "             'PY':'PY',\n",
    "             'A2':u'Inst_Author',\n",
    "             'A3':u'Inst_Sponser',\n",
    "             'AB':u'Abstract',\n",
    "             'UR':u'URI',\n",
    "             'C1':u'Publication_Date_Freeform',\n",
    "             'C2':u'Primary_Subject',\n",
    "             'C3':u'USAID_Project_Number',\n",
    "             'C4':u'Contract_Grant_Number',\n",
    "             'C5':u'Bibliographic_Type',\n",
    "             'C6':u'Descriptors_Topical',\n",
    "             'C7':u'Descriptors_Geographic',\n",
    "             'LA':u'Language',\n",
    "             'TI':u'Title',\n",
    "             'TT':u'Title_Translated',\n",
    "             'KW':'KW',\n",
    "             'PB':u'Inst_Publisher',\n",
    "             'N1':u'Notes',\n",
    "             'AN':u'Unique_ID'}\n",
    "'''\n",
    "\n",
    "rislist = []\n",
    "for record in newfindings:\n",
    "    risrec = {}\n",
    "    for key,val in risdecmap.items():\n",
    "        if val in record.keys():\n",
    "            risrec[key] = record[val]\n",
    "            \n",
    "    rislist.append(risrec)"
   ]
  },
  {
   "cell_type": "code",
   "execution_count": 202,
   "metadata": {
    "collapsed": false,
    "deletable": true,
    "editable": true
   },
   "outputs": [
    {
     "data": {
      "text/plain": [
       "{'A2': u'\"008014 - Education Development Center, Inc. (EDC) International Programs\"',\n",
       " 'AB': u'',\n",
       " 'AN': u'PA-00K-2GT',\n",
       " 'AU': u'',\n",
       " 'C3': u'Demographic surveys/Economic development/Economics/Education/Management/Mass media',\n",
       " 'C4': u'Honduras',\n",
       " 'DA': u'2013',\n",
       " 'KW': u'honduras, recruit',\n",
       " 'LA': u'English',\n",
       " 'PY': u'2013',\n",
       " 'TI': u'Improving Education for Work, Learning and Success - METAS Project - Quarterly Report Y3Q2 (Jan 2013 - Mar 2013)',\n",
       " 'TT': u'Proyecto METAS (Mejorando la Educaci\\xf3n para Trabajar, Aprender y Superarse) -  Informe Trimestral Y3Q2 (Ene 2013 - Mar 2013)',\n",
       " 'U1': u'AID-522-LA-10-00001',\n",
       " 'U2': u'Periodic Report',\n",
       " 'U3': u'Educational development',\n",
       " 'U4': u'',\n",
       " 'UR': u'https://dec.usaid.gov/dec/content/Detail.aspx?ctID=ODVhZjk4NWQtM2YyMi00YjRmLTkxNjktZTcxMjM2NDBmY2Uy&rID=MzUyNDAz'}"
      ]
     },
     "execution_count": 202,
     "metadata": {},
     "output_type": "execute_result"
    }
   ],
   "source": [
    "# RIS formatted example\n",
    "rislist[34]"
   ]
  },
  {
   "cell_type": "code",
   "execution_count": 203,
   "metadata": {
    "collapsed": false,
    "deletable": true,
    "editable": true
   },
   "outputs": [],
   "source": [
    "# Convert list from Unicode to ASCII to deal with special/non-latin character problems\n",
    "for src in rislist:\n",
    "    for key,val in src.items():\n",
    "        src[key] = re.sub(r'\\n|\\r', ' ', val)\n",
    "        src[key] = normalize('NFKD', val).encode('ascii', 'ignore')\n",
    "        \n",
    "for src in catlist:\n",
    "    for key, val in src.items():\n",
    "        src[key] = re.sub(r'\\n|\\r', ' ', val)\n",
    "        src[key] = normalize('NFKD', val).encode('ascii', 'ignore')\n",
    "        "
   ]
  },
  {
   "cell_type": "code",
   "execution_count": 204,
   "metadata": {
    "collapsed": false,
    "deletable": true,
    "editable": true
   },
   "outputs": [],
   "source": [
    "# Create RefIDs for Distiller upload in form of 90xxx\n",
    "for idx,src in enumerate(rislist):\n",
    "    src['ID'] = '9' + (4-len(str(idx + 1)))*'0' + str(idx + 1)"
   ]
  },
  {
   "cell_type": "code",
   "execution_count": 213,
   "metadata": {
    "collapsed": true
   },
   "outputs": [],
   "source": [
    "for idx,src in enumerate(newfindings):\n",
    "    src['ID'] = '9' + (4-len(str(idx + 1)))*'0' + str(idx + 1)\n",
    "    \n",
    "df = pd.DataFrame(newfindings)\n",
    "df.to_excel(r'C:\\Users\\ddavis\\Desktop\\LAC\\python_sources.xls', index=False)"
   ]
  },
  {
   "cell_type": "code",
   "execution_count": 205,
   "metadata": {
    "collapsed": true
   },
   "outputs": [],
   "source": [
    "allsources = rislist + catlist"
   ]
  },
  {
   "cell_type": "code",
   "execution_count": 206,
   "metadata": {
    "collapsed": false
   },
   "outputs": [
    {
     "data": {
      "text/plain": [
       "{'A2': '040584 - Vanderbilt University. Latin American Public Opinion Project (LAPOP)',\n",
       " 'AB': '',\n",
       " 'AN': 'PA-00K-88C',\n",
       " 'AU': 'Anthony A. Harriott/Balford A. Lewis/Kenisha V. Nelson/Mitchell A. Seligson',\n",
       " 'C3': 'Crimes/Economic development/Economics/Elections/Government/Violence',\n",
       " 'C4': 'Caribbean/Latin America/Jamaica',\n",
       " 'DA': 'March 2013',\n",
       " 'ID': '90059',\n",
       " 'KW': 'honduras, mexico, latin_america, el_salvador, guatemala, dominican_rep, caribbean, nicaragua, trinidad, extortion',\n",
       " 'LA': 'English',\n",
       " 'PY': '2013',\n",
       " 'TI': 'The Political Culture of Democracy in Jamaica and in the Americas, 2012: Towards Equality of Opportunity',\n",
       " 'TT': '',\n",
       " 'U1': '598-A-00-06-00061-00',\n",
       " 'U2': 'Other USAID Supported Study/Document',\n",
       " 'U3': 'Democratization',\n",
       " 'U4': '',\n",
       " 'UR': 'https://dec.usaid.gov/dec/content/Detail.aspx?ctID=ODVhZjk4NWQtM2YyMi00YjRmLTkxNjktZTcxMjM2NDBmY2Uy&rID=MzU2OTI2'}"
      ]
     },
     "execution_count": 206,
     "metadata": {},
     "output_type": "execute_result"
    }
   ],
   "source": [
    "allsources[58]"
   ]
  },
  {
   "cell_type": "code",
   "execution_count": 207,
   "metadata": {
    "collapsed": true
   },
   "outputs": [],
   "source": [
    "df = pd.DataFrame(rislist)\n",
    "df.to_excel(r'C:\\Users\\ddavis\\Desktop\\LAC\\python_sources.xls', index=False)"
   ]
  },
  {
   "cell_type": "code",
   "execution_count": 208,
   "metadata": {
    "collapsed": false,
    "deletable": true,
    "editable": true
   },
   "outputs": [],
   "source": [
    "# Write sources to an RIS file; split multiple authors and keywords into individual RIS tags. All sources typed as \"RPRT\".\n",
    "# Documented here: http://referencemanager.com/sites/rm/files/m/direct_export_ris.pdf\n",
    "risfile = r'C:\\Users\\ddavis\\Desktop\\LAC\\findings.ris'\n",
    "with open(risfile, 'w') as f:\n",
    "    for src in allsources:\n",
    "        f.write('TY  - RPRT\\n\\r')\n",
    "        for key, val in src.items():\n",
    "            if key == 'AU':\n",
    "                authors = val.split('/')\n",
    "                for au in authors:\n",
    "                    f.write(key + '  - ' + au + '\\n\\r')\n",
    "            elif key == 'KW':\n",
    "                kws = val.split(', ')\n",
    "                for kw in kws:\n",
    "                    f.write(key + '  - ' + kw + '\\n\\r')\n",
    "            else:\n",
    "                f.write(key + '  - ' + val + '\\n\\r')\n",
    "        f.write('ER  -\\n\\r')"
   ]
  },
  {
   "cell_type": "code",
   "execution_count": 135,
   "metadata": {
    "collapsed": false,
    "deletable": true,
    "editable": true
   },
   "outputs": [],
   "source": [
    "# Create new folder and move identified PDFs into it from bulk PDF folder. Rename those PDFs based on Distiller RefIDs.\n",
    "pdf_folder = r'C:\\Users\\ddavis\\Desktop\\LAC\\PDFs'\n",
    "new_dir = r'C:\\Users\\ddavis\\Desktop\\LAC\\Findings'\n",
    "if not os.path.exists(new_dir):\n",
    "    os.mkdir(new_dir)\n",
    "    \n",
    "for src in rislist:\n",
    "    pdfname = re.sub(r'^\\s+|-', '', src['AN']) + '.pdf'\n",
    "    pdffile = os.path.join(pdf_folder, pdfname)\n",
    "    shutil.copy(pdffile, new_dir)\n",
    "    newfile = os.path.join(new_dir, pdfname)\n",
    "    idcode = src['ID'] + '.pdf'\n",
    "    newpdf = os.path.join(new_dir, idcode)\n",
    "    os.rename(newfile, newpdf)\n",
    "    "
   ]
  },
  {
   "cell_type": "code",
   "execution_count": 115,
   "metadata": {
    "collapsed": false,
    "deletable": true,
    "editable": true
   },
   "outputs": [],
   "source": [
    "# Normalize non-ascii characters from CSV file used to upload to Distiller the manual searches.\n",
    "#csvpath = r'H:\\LAC Region Projects\\LAC Youth Violence Prevention\\Deliverables\\Catalog\\03 Distiller Uploads\\01 Excel Workbook Uploads\\00 ARCHIVE'\n",
    "#csvfile = os.path.join(csvpath, 'DEC manual search 1 thru 88.csv')\n",
    "csvfile = r'H:\\LAC Region Projects\\LAC Youth Violence Prevention\\Deliverables\\Catalog\\04 Distiller Uploads\\01 Excel Workbook Uploads\\DEC manual search 89 thru 92.csv'\n",
    "#newcsv = os.path.join(csvpath, 'DEC manual search 1 thur 88 DD2.csv')\n",
    "newcsv = r'H:\\LAC Region Projects\\LAC Youth Violence Prevention\\Deliverables\\Catalog\\04 Distiller Uploads\\01 Excel Workbook Uploads\\DEC manual search 89 thru 92 DD.csv'\n",
    "\n",
    "deccsv = open(csvfile, 'r')\n",
    "decnew = open(newcsv, 'w')\n",
    "for line in deccsv:\n",
    "    x = unicode(line, 'cp1252')\n",
    "    newline = normalize('NFKD',x).encode('ascii', 'ignore')\n",
    "    if any(field.strip() for field in newline):\n",
    "        decnew.write(newline)\n",
    "    \n",
    "deccsv.close()\n",
    "decnew.close()"
   ]
  }
 ],
 "metadata": {
  "kernelspec": {
   "display_name": "Python 2",
   "language": "python",
   "name": "python2"
  },
  "language_info": {
   "codemirror_mode": {
    "name": "ipython",
    "version": 2
   },
   "file_extension": ".py",
   "mimetype": "text/x-python",
   "name": "python",
   "nbconvert_exporter": "python",
   "pygments_lexer": "ipython2",
   "version": "2.7.13"
  }
 },
 "nbformat": 4,
 "nbformat_minor": 2
}
